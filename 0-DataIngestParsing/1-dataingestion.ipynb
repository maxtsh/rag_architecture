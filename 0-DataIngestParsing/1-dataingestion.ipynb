{
 "cells": [
  {
   "cell_type": "code",
   "execution_count": 141,
   "id": "6682646e",
   "metadata": {},
   "outputs": [],
   "source": [
    "import os\n",
    "from typing import List, Dict, Any\n",
    "import pandas as pd"
   ]
  },
  {
   "cell_type": "code",
   "execution_count": 142,
   "id": "62948d75",
   "metadata": {},
   "outputs": [
    {
     "name": "stdout",
     "output_type": "stream",
     "text": [
      "Setup is completed!\n"
     ]
    }
   ],
   "source": [
    "from langchain_core.documents import Document\n",
    "from langchain_text_splitters import (RecursiveCharacterTextSplitter, CharacterTextSplitter,TokenTextSplitter)\n",
    "\n",
    "print(\"Setup is completed!\")\n"
   ]
  },
  {
   "cell_type": "markdown",
   "id": "51115196",
   "metadata": {},
   "source": [
    "# Understanding document structure in langchain\n"
   ]
  },
  {
   "cell_type": "code",
   "execution_count": 143,
   "id": "28044b27",
   "metadata": {},
   "outputs": [
    {
     "name": "stdout",
     "output_type": "stream",
     "text": [
      "Document strucutre:\n",
      "Doc Content: This is the main content that will be parsed into a document.\n",
      "Metadata :{'name': 'Max', 'age': '31', 'author': 'Max Shahdoost', 'job': 'Software Engineer'}\n"
     ]
    },
    {
     "data": {
      "text/plain": [
       "langchain_core.documents.base.Document"
      ]
     },
     "execution_count": 143,
     "metadata": {},
     "output_type": "execute_result"
    }
   ],
   "source": [
    "doc = Document(page_content=\"This is the main content that will be parsed into a document.\",metadata={\n",
    "    \"name\":\"Max\",\n",
    "    \"age\":\"31\",\n",
    "    \"author\": \"Max Shahdoost\",\n",
    "    \"job\":\"Software Engineer\"\n",
    "})\n",
    "\n",
    "print('Document strucutre:')\n",
    "\n",
    "print(f\"Doc Content: {doc.page_content}\")\n",
    "print(f\"Metadata :{doc.metadata}\")\n",
    "type(doc)"
   ]
  },
  {
   "cell_type": "code",
   "execution_count": 144,
   "id": "bf1415ff",
   "metadata": {},
   "outputs": [],
   "source": [
    "import os\n",
    "os.makedirs('data/text_files', exist_ok=True)"
   ]
  },
  {
   "cell_type": "code",
   "execution_count": 145,
   "id": "f093287d",
   "metadata": {},
   "outputs": [
    {
     "name": "stdout",
     "output_type": "stream",
     "text": [
      "My Sample file has been created!\n"
     ]
    }
   ],
   "source": [
    "sample_text={\n",
    "    \"data/text_files/python_intro.txt\":\"\"\"\n",
    "🐍 Introduction to Python Programming Language\n",
    "1. What is Python?\n",
    "\n",
    "Python is a high-level, interpreted, general-purpose programming language created by Guido van Rossum and first released in 1991.\n",
    "It’s designed to be easy to read, write, and learn, making it one of the most popular languages in the world today.\n",
    "\n",
    "2. Why is Python so popular?\n",
    "\n",
    "✅ Simple syntax (looks like plain English).\n",
    "\n",
    "✅ Versatile (can be used for web apps, data science, AI, automation, games, etc.).\n",
    "\n",
    "✅ Huge community & libraries (lots of free tools and support).\n",
    "\n",
    "✅ Cross-platform (works on Windows, macOS, Linux, and even mobile/embedded systems).\n",
    "\n",
    "3. Key Features\n",
    "\n",
    "Interpreted: You don’t need to compile it, just run directly.\n",
    "\n",
    "Dynamic typing: No need to declare variable types (x = 10 works without saying int).\n",
    "\n",
    "Object-oriented: Supports classes and objects.\n",
    "\n",
    "Extensible: Can integrate with C, C++, Java, etc.\n",
    "\n",
    "Portable: Write once, run anywhere.\n",
    "\n",
    "Large Standard Library: Comes with modules for math, files, networking, and more.\"\"\",\n",
    "\"data/text_files/javascript_intro.txt\":\"\"\"\n",
    "JavaScript is a high-level, interpreted programming language primarily used to make web pages interactive. While HTML structures content and CSS styles it, JavaScript adds life by handling dynamic behavior such as animations, form validation, interactive maps, and real-time updates without reloading a page. It runs directly in web browsers, making it the backbone of modern web development alongside HTML and CSS.\n",
    "\n",
    "Beyond the browser, JavaScript is also widely used on servers with Node.js, enabling developers to build full-stack applications using a single language. It has a massive ecosystem of libraries and frameworks like React, Vue, and Angular for front-end, and Express.js for back-end. Its versatility, ease of use, and community support make JavaScript one of the most important and widely used languages in the world today.\n",
    "\"\"\"\n",
    "}\n",
    "\n",
    "for filepath, content in sample_text.items():\n",
    "    with open(filepath, 'w', encoding='utf-8') as f:\n",
    "        f.write(content)\n",
    "\n",
    "print('My Sample file has been created!')"
   ]
  },
  {
   "cell_type": "code",
   "execution_count": 146,
   "id": "dd849694",
   "metadata": {},
   "outputs": [
    {
     "name": "stdout",
     "output_type": "stream",
     "text": [
      "Loader <langchain_community.document_loaders.text.TextLoader object at 0x000001F565178E10>\n",
      "[Document(metadata={'source': 'data/text_files/python_intro.txt'}, page_content='\\n🐍 Introduction to Python Programming Language\\n1. What is Python?\\n\\nPython is a high-level, interpreted, general-purpose programming language created by Guido van Rossum and first released in 1991.\\nIt’s designed to be easy to read, write, and learn, making it one of the most popular languages in the world today.\\n\\n2. Why is Python so popular?\\n\\n✅ Simple syntax (looks like plain English).\\n\\n✅ Versatile (can be used for web apps, data science, AI, automation, games, etc.).\\n\\n✅ Huge community & libraries (lots of free tools and support).\\n\\n✅ Cross-platform (works on Windows, macOS, Linux, and even mobile/embedded systems).\\n\\n3. Key Features\\n\\nInterpreted: You don’t need to compile it, just run directly.\\n\\nDynamic typing: No need to declare variable types (x = 10 works without saying int).\\n\\nObject-oriented: Supports classes and objects.\\n\\nExtensible: Can integrate with C, C++, Java, etc.\\n\\nPortable: Write once, run anywhere.\\n\\nLarge Standard Library: Comes with modules for math, files, networking, and more.')]\n",
      "<class 'list'>\n",
      "📃 loaded 1 document\n",
      "Content preview \n",
      "🐍 Introduction to Python Programming Language\n",
      "1. What is Python?\n",
      "\n",
      "Python is a high-level, interpret...\n",
      "Metadata {'source': 'data/text_files/python_intro.txt'}\n"
     ]
    }
   ],
   "source": [
    "from langchain.document_loaders import TextLoader\n",
    "\n",
    "loader = TextLoader('data/text_files/python_intro.txt', encoding='utf-8')\n",
    "\n",
    "documents =loader.load()\n",
    "\n",
    "print(f'Loader {loader}')\n",
    "print(documents)\n",
    "print(type(documents))\n",
    "\n",
    "print(f\"📃 loaded {len(documents)} document\")\n",
    "print(f'Content preview {documents[0].page_content[:100]}...')\n",
    "print(f'Metadata {documents[0].metadata}')"
   ]
  },
  {
   "cell_type": "code",
   "execution_count": 147,
   "id": "36c591a6",
   "metadata": {},
   "outputs": [
    {
     "name": "stderr",
     "output_type": "stream",
     "text": [
      "\n",
      "100%|██████████| 2/2 [00:00<00:00, 2295.10it/s]"
     ]
    },
    {
     "name": "stdout",
     "output_type": "stream",
     "text": [
      "📃 loaded 2 document\n",
      "\n",
      " Document 1:\n",
      "Source data\\text_files\\javascript_intro.txt\n",
      "Length 840 characters\n",
      "\n",
      " Document 2:\n",
      "Source data\\text_files\\python_intro.txt\n",
      "Length 1006 characters\n"
     ]
    },
    {
     "name": "stderr",
     "output_type": "stream",
     "text": [
      "\n"
     ]
    }
   ],
   "source": [
    "from langchain_community.document_loaders import DirectoryLoader \n",
    "\n",
    "dir_loader = DirectoryLoader(\n",
    "    'data/text_files', \n",
    "    glob=\"**/*.txt\", \n",
    "    loader_cls=TextLoader,\n",
    "    loader_kwargs={'encoding':'utf-8'},\n",
    "    show_progress=True\n",
    ")\n",
    "\n",
    "documents = dir_loader.load()\n",
    "\n",
    "print(f\"📃 loaded {len(documents)} document\")\n",
    "\n",
    "for i, doc in enumerate(documents):\n",
    "    print(f\"\\n Document {i+1}:\")\n",
    "    print(f'Source {doc.metadata['source']}')\n",
    "    print(f'Length {len(doc.page_content)} characters')\n",
    "    \n",
    "text = documents[1].page_content"
   ]
  },
  {
   "cell_type": "code",
   "execution_count": 148,
   "id": "2e87f914",
   "metadata": {},
   "outputs": [
    {
     "name": "stdout",
     "output_type": "stream",
     "text": [
      "[Document(metadata={'source': 'data\\\\text_files\\\\javascript_intro.txt'}, page_content='\\nJavaScript is a high-level, interpreted programming language primarily used to make web pages interactive. While HTML structures content and CSS styles it, JavaScript adds life by handling dynamic behavior such as animations, form validation, interactive maps, and real-time updates without reloading a page. It runs directly in web browsers, making it the backbone of modern web development alongside HTML and CSS.\\n\\nBeyond the browser, JavaScript is also widely used on servers with Node.js, enabling developers to build full-stack applications using a single language. It has a massive ecosystem of libraries and frameworks like React, Vue, and Angular for front-end, and Express.js for back-end. Its versatility, ease of use, and community support make JavaScript one of the most important and widely used languages in the world today.\\n'), Document(metadata={'source': 'data\\\\text_files\\\\python_intro.txt'}, page_content='\\n🐍 Introduction to Python Programming Language\\n1. What is Python?\\n\\nPython is a high-level, interpreted, general-purpose programming language created by Guido van Rossum and first released in 1991.\\nIt’s designed to be easy to read, write, and learn, making it one of the most popular languages in the world today.\\n\\n2. Why is Python so popular?\\n\\n✅ Simple syntax (looks like plain English).\\n\\n✅ Versatile (can be used for web apps, data science, AI, automation, games, etc.).\\n\\n✅ Huge community & libraries (lots of free tools and support).\\n\\n✅ Cross-platform (works on Windows, macOS, Linux, and even mobile/embedded systems).\\n\\n3. Key Features\\n\\nInterpreted: You don’t need to compile it, just run directly.\\n\\nDynamic typing: No need to declare variable types (x = 10 works without saying int).\\n\\nObject-oriented: Supports classes and objects.\\n\\nExtensible: Can integrate with C, C++, Java, etc.\\n\\nPortable: Write once, run anywhere.\\n\\nLarge Standard Library: Comes with modules for math, files, networking, and more.')]\n",
      " 6 Chunkes has been created!\n",
      "First chunk: 🐍 Introduction to Python Programming Language\n",
      "1. What is Python?\n",
      "Python is a high-level, interpreted\n"
     ]
    }
   ],
   "source": [
    "from langchain_text_splitters import (\n",
    "    CharacterTextSplitter,\n",
    "    RecursiveCharacterTextSplitter,\n",
    "    TokenTextSplitter,\n",
    ")\n",
    "\n",
    "print(documents)\n",
    "\n",
    "char_spliter = CharacterTextSplitter(separator='\\n', chunk_size=200, chunk_overlap=30, length_function=len)\n",
    "\n",
    "char_chunks = char_spliter.split_text(text)\n",
    "\n",
    "print(f\" {len(char_chunks)} Chunkes has been created!\")\n",
    "print(f\"First chunk: {char_chunks[0][:100]}\")"
   ]
  },
  {
   "cell_type": "code",
   "execution_count": 149,
   "id": "dda8afd1",
   "metadata": {},
   "outputs": [
    {
     "name": "stdout",
     "output_type": "stream",
     "text": [
      "🐍 Introduction to Python Programming Language\n",
      "1. What is Python?\n",
      "Python is a high-level, interpreted, general-purpose programming language created by Guido van Rossum and first released in 1991.\n",
      "=============================\n",
      "It’s designed to be easy to read, write, and learn, making it one of the most popular languages in the world today.\n",
      "2. Why is Python so popular?\n",
      "✅ Simple syntax (looks like plain English).\n",
      "=============================\n",
      "✅ Versatile (can be used for web apps, data science, AI, automation, games, etc.).\n",
      "✅ Huge community & libraries (lots of free tools and support).\n"
     ]
    }
   ],
   "source": [
    "print(char_chunks[0])\n",
    "print('=============================')\n",
    "print(char_chunks[1])\n",
    "print('=============================')\n",
    "print(char_chunks[2])"
   ]
  },
  {
   "cell_type": "code",
   "execution_count": 150,
   "id": "97682e2c",
   "metadata": {},
   "outputs": [
    {
     "name": "stdout",
     "output_type": "stream",
     "text": [
      " 8 Chunkes has been created!\n",
      "First chunk: 🐍 Introduction to Python Programming Language\n",
      "1. What is Python?\n"
     ]
    }
   ],
   "source": [
    "recursive_spliter = RecursiveCharacterTextSplitter(\n",
    "    separators=['\\n\\n',\"\\n\", \" \", \"\"],\n",
    "    chunk_size=200,\n",
    "    chunk_overlap=20,\n",
    "    length_function=len\n",
    ")\n",
    "\n",
    "recursive_chunks = recursive_spliter.split_text(text)\n",
    "\n",
    "print(f\" {len(recursive_chunks)} Chunkes has been created!\")\n",
    "print(f\"First chunk: {recursive_chunks[0][:100]}\")\n",
    "\n"
   ]
  },
  {
   "cell_type": "code",
   "execution_count": 152,
   "id": "4164d5a1",
   "metadata": {},
   "outputs": [
    {
     "name": "stdout",
     "output_type": "stream",
     "text": [
      "🐍 Introduction to Python Programming Language\n",
      "1. What is Python?\n",
      "=============================\n",
      "Python is a high-level, interpreted, general-purpose programming language created by Guido van Rossum and first released in 1991.\n",
      "=============================\n",
      "It’s designed to be easy to read, write, and learn, making it one of the most popular languages in the world today.\n"
     ]
    }
   ],
   "source": [
    "print(recursive_chunks[0])\n",
    "print('=============================')\n",
    "print(recursive_chunks[1])\n",
    "print('=============================')\n",
    "print(recursive_chunks[2])"
   ]
  },
  {
   "cell_type": "code",
   "execution_count": 155,
   "id": "45e5147e",
   "metadata": {},
   "outputs": [
    {
     "name": "stdout",
     "output_type": "stream",
     "text": [
      " 2 Chunkes has been created!\n",
      "First chunk: \n",
      "🐍 Introduction to Python Programming Language\n",
      "1. What is Python?\n",
      "\n",
      "Python is a high-level, interpret\n"
     ]
    }
   ],
   "source": [
    "token_spliter = TokenTextSplitter(\n",
    "    chunk_size=200,\n",
    "    chunk_overlap=20,\n",
    ")\n",
    "\n",
    "token_chunks = token_spliter.split_text(text)\n",
    "\n",
    "print(f\" {len(token_chunks)} Chunkes has been created!\")\n",
    "print(f\"First chunk: {token_chunks[0][:100]}\")"
   ]
  },
  {
   "cell_type": "code",
   "execution_count": 156,
   "id": "419b7e9c",
   "metadata": {},
   "outputs": [
    {
     "name": "stdout",
     "output_type": "stream",
     "text": [
      "\n",
      "🐍 Introduction to Python Programming Language\n",
      "1. What is Python?\n",
      "\n",
      "Python is a high-level, interpreted, general-purpose programming language created by Guido van Rossum and first released in 1991.\n",
      "It’s designed to be easy to read, write, and learn, making it one of the most popular languages in the world today.\n",
      "\n",
      "2. Why is Python so popular?\n",
      "\n",
      "✅ Simple syntax (looks like plain English).\n",
      "\n",
      "✅ Versatile (can be used for web apps, data science, AI, automation, games, etc.).\n",
      "\n",
      "✅ Huge community & libraries (lots of free tools and support).\n",
      "\n",
      "✅ Cross-platform (works on Windows, macOS, Linux, and even mobile/embedded systems).\n",
      "\n",
      "3. Key Features\n",
      "\n",
      "Interpreted: You don’t need to compile it, just run directly.\n",
      "\n",
      "Dynamic typing: No need to declare variable\n",
      "=============================\n",
      "t need to compile it, just run directly.\n",
      "\n",
      "Dynamic typing: No need to declare variable types (x = 10 works without saying int).\n",
      "\n",
      "Object-oriented: Supports classes and objects.\n",
      "\n",
      "Extensible: Can integrate with C, C++, Java, etc.\n",
      "\n",
      "Portable: Write once, run anywhere.\n",
      "\n",
      "Large Standard Library: Comes with modules for math, files, networking, and more.\n",
      "=============================\n"
     ]
    }
   ],
   "source": [
    "print(token_chunks[0])\n",
    "print('=============================')\n",
    "print(token_chunks[1])\n",
    "print('=============================')"
   ]
  }
 ],
 "metadata": {
  "kernelspec": {
   "display_name": "RAG",
   "language": "python",
   "name": "python3"
  },
  "language_info": {
   "codemirror_mode": {
    "name": "ipython",
    "version": 3
   },
   "file_extension": ".py",
   "mimetype": "text/x-python",
   "name": "python",
   "nbconvert_exporter": "python",
   "pygments_lexer": "ipython3",
   "version": "3.13.7"
  }
 },
 "nbformat": 4,
 "nbformat_minor": 5
}
