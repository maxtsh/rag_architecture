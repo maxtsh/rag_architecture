{
 "cells": [
  {
   "cell_type": "code",
   "execution_count": 2,
   "id": "bd9a9385",
   "metadata": {},
   "outputs": [
    {
     "name": "stdout",
     "output_type": "stream",
     "text": [
      "Document Word Loader\n",
      "Loaded 1 document(s)\n",
      "Preview Project Proposal: RAG Implementation\n",
      "\n",
      "Executive Summary\n",
      "\n",
      "This proposal outlines the implementation of a Retrieval-Augmented Generation system for our organization.\n",
      "\n",
      "Objectives\n",
      "\n",
      "Key objectives include:...\n",
      "Metadata {'source': 'data/word_files//proposal.docx'}\n"
     ]
    }
   ],
   "source": [
    "import os\n",
    "from docx import (\n",
    "    Document as DocxDocument,\n",
    ")\n",
    "from langchain_community.document_loaders import (\n",
    "    Docx2txtLoader,\n",
    "    UnstructuredWordDocumentLoader,\n",
    ")\n",
    "\n",
    "print('Document Word Loader')\n",
    "\n",
    "try:\n",
    "    docs_loader = Docx2txtLoader('data/word_files//proposal.docx')\n",
    "    docs = docs_loader.load()\n",
    "    \n",
    "    print(f'Loaded {len(docs)} document(s)')\n",
    "    print(f'Preview {docs[0].page_content[:200]}...')\n",
    "    print(f'Metadata {docs[0].metadata}')\n",
    "    \n",
    "except Exception as e:\n",
    "    print(f\"Error: {e}\")\n"
   ]
  },
  {
   "cell_type": "code",
   "execution_count": 4,
   "id": "f08b99d0",
   "metadata": {},
   "outputs": [
    {
     "name": "stdout",
     "output_type": "stream",
     "text": [
      "Unstructured Dcoument Loader\n",
      "Loaded 20 element(s)\n",
      "\n",
      "Element 1\n",
      "Type Title\n",
      "Content Project Proposal: RAG Implementation\n",
      "\n",
      "Element 2\n",
      "Type Title\n",
      "Content Executive Summary\n",
      "\n",
      "Element 3\n",
      "Type NarrativeText\n",
      "Content This proposal outlines the implementation of a Retrieval-Augmented Generation system for our organiz\n"
     ]
    }
   ],
   "source": [
    "print('Unstructured Dcoument Loader')\n",
    "\n",
    "try:\n",
    "    unstructured_loader = UnstructuredWordDocumentLoader('data/word_files//proposal.docx', mode='elements')\n",
    "    unstructured_docs = unstructured_loader.load()\n",
    "    \n",
    "    print(f'Loaded {len(unstructured_docs)} element(s)')\n",
    "    \n",
    "    for i, doc in enumerate(unstructured_docs[:3]):\n",
    "        print(f'\\nElement {i+1}')\n",
    "        print(f'Type {doc.metadata.get('category', 'unknown')}')\n",
    "        print(f'Content {doc.page_content[:100]}')\n",
    "    \n",
    "    \n",
    "except Exception as e:\n",
    "    print(f'Error {e}')"
   ]
  },
  {
   "cell_type": "code",
   "execution_count": 5,
   "id": "9033f923",
   "metadata": {},
   "outputs": [
    {
     "data": {
      "text/plain": [
       "Document(metadata={'source': 'data/word_files//proposal.docx', 'category_depth': 0, 'file_directory': 'data/word_files', 'filename': 'proposal.docx', 'last_modified': '2025-06-28T15:37:12', 'languages': ['eng'], 'filetype': 'application/vnd.openxmlformats-officedocument.wordprocessingml.document', 'category': 'Title', 'element_id': 'bb0410bfd160ef866f8d4357b0949db2'}, page_content='Project Proposal: RAG Implementation')"
      ]
     },
     "execution_count": 5,
     "metadata": {},
     "output_type": "execute_result"
    }
   ],
   "source": [
    "unstructured_docs[0]"
   ]
  }
 ],
 "metadata": {
  "kernelspec": {
   "display_name": "RAG",
   "language": "python",
   "name": "python3"
  },
  "language_info": {
   "codemirror_mode": {
    "name": "ipython",
    "version": 3
   },
   "file_extension": ".py",
   "mimetype": "text/x-python",
   "name": "python",
   "nbconvert_exporter": "python",
   "pygments_lexer": "ipython3",
   "version": "3.13.7"
  }
 },
 "nbformat": 4,
 "nbformat_minor": 5
}
